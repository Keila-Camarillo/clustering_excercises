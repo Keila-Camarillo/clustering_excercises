{
 "cells": [
  {
   "cell_type": "markdown",
   "id": "dd929e76",
   "metadata": {},
   "source": [
    "# Using clusters"
   ]
  },
  {
   "cell_type": "markdown",
   "id": "2eb1ec72",
   "metadata": {},
   "source": [
    "what is it?\n",
    "- now that we have made our clusters, how do we use them?\n",
    "\n",
    "what do we care? \n",
    "- to get some usefulness out of our supervised learning"
   ]
  },
  {
   "cell_type": "markdown",
   "id": "2c3e0ed6",
   "metadata": {},
   "source": [
    "## Clusters are about providing options and insight\n",
    "\n",
    "- Step 1: Explore the clusters\n",
    "- Step 2: Name the clusters\n",
    "- Step 3: \n",
    "    - Option 1: Dimensionality reduction\n",
    "    - Option 2: Treat cluster names as a new target variable\n",
    "    - Option 3: Perform deeper EDA\n",
    "    - Option 4: Make many models"
   ]
  },
  {
   "cell_type": "markdown",
   "id": "3a407254",
   "metadata": {},
   "source": [
    "# Show us!"
   ]
  },
  {
   "cell_type": "markdown",
   "id": "1a4b7bf7",
   "metadata": {},
   "source": [
    "Scenario: Analyzing our mall data and seeing how unsupervised learning can drive our data insights"
   ]
  },
  {
   "cell_type": "code",
   "execution_count": 1,
   "id": "19d80b5e",
   "metadata": {},
   "outputs": [],
   "source": [
    "#do the data things\n",
    "import pandas as pd\n",
    "import numpy as np\n",
    "\n",
    "#visualize & stastisize\n",
    "import seaborn as sns\n",
    "import matplotlib.pyplot as plt\n",
    "from scipy import stats\n",
    "\n",
    "#prepore and model\n",
    "from sklearn.model_selection import train_test_split\n",
    "from sklearn.preprocessing import MinMaxScaler\n",
    "from sklearn.cluster import KMeans\n",
    "\n",
    "#my creds\n",
    "from env import get_db_url"
   ]
  },
  {
   "cell_type": "markdown",
   "id": "40a03af9",
   "metadata": {},
   "source": [
    "## Acquire"
   ]
  },
  {
   "cell_type": "code",
   "execution_count": 2,
   "id": "de7c2aa6",
   "metadata": {},
   "outputs": [
    {
     "data": {
      "text/html": [
       "<div>\n",
       "<style scoped>\n",
       "    .dataframe tbody tr th:only-of-type {\n",
       "        vertical-align: middle;\n",
       "    }\n",
       "\n",
       "    .dataframe tbody tr th {\n",
       "        vertical-align: top;\n",
       "    }\n",
       "\n",
       "    .dataframe thead th {\n",
       "        text-align: right;\n",
       "    }\n",
       "</style>\n",
       "<table border=\"1\" class=\"dataframe\">\n",
       "  <thead>\n",
       "    <tr style=\"text-align: right;\">\n",
       "      <th></th>\n",
       "      <th>gender</th>\n",
       "      <th>age</th>\n",
       "      <th>annual_income</th>\n",
       "      <th>spending_score</th>\n",
       "    </tr>\n",
       "    <tr>\n",
       "      <th>customer_id</th>\n",
       "      <th></th>\n",
       "      <th></th>\n",
       "      <th></th>\n",
       "      <th></th>\n",
       "    </tr>\n",
       "  </thead>\n",
       "  <tbody>\n",
       "    <tr>\n",
       "      <th>1</th>\n",
       "      <td>Male</td>\n",
       "      <td>19</td>\n",
       "      <td>15</td>\n",
       "      <td>39</td>\n",
       "    </tr>\n",
       "    <tr>\n",
       "      <th>2</th>\n",
       "      <td>Male</td>\n",
       "      <td>21</td>\n",
       "      <td>15</td>\n",
       "      <td>81</td>\n",
       "    </tr>\n",
       "    <tr>\n",
       "      <th>3</th>\n",
       "      <td>Female</td>\n",
       "      <td>20</td>\n",
       "      <td>16</td>\n",
       "      <td>6</td>\n",
       "    </tr>\n",
       "    <tr>\n",
       "      <th>4</th>\n",
       "      <td>Female</td>\n",
       "      <td>23</td>\n",
       "      <td>16</td>\n",
       "      <td>77</td>\n",
       "    </tr>\n",
       "    <tr>\n",
       "      <th>5</th>\n",
       "      <td>Female</td>\n",
       "      <td>31</td>\n",
       "      <td>17</td>\n",
       "      <td>40</td>\n",
       "    </tr>\n",
       "  </tbody>\n",
       "</table>\n",
       "</div>"
      ],
      "text/plain": [
       "             gender  age  annual_income  spending_score\n",
       "customer_id                                            \n",
       "1              Male   19             15              39\n",
       "2              Male   21             15              81\n",
       "3            Female   20             16               6\n",
       "4            Female   23             16              77\n",
       "5            Female   31             17              40"
      ]
     },
     "execution_count": 2,
     "metadata": {},
     "output_type": "execute_result"
    }
   ],
   "source": [
    "#get my data\n",
    "df = pd.read_sql('SELECT * FROM customers;', get_db_url('mall_customers'))\n",
    "df = df.set_index('customer_id')\n",
    "\n",
    "#see it\n",
    "df.head()"
   ]
  },
  {
   "cell_type": "code",
   "execution_count": 3,
   "id": "a6b22a37",
   "metadata": {},
   "outputs": [
    {
     "name": "stdout",
     "output_type": "stream",
     "text": [
      "<class 'pandas.core.frame.DataFrame'>\n",
      "Int64Index: 200 entries, 1 to 200\n",
      "Data columns (total 4 columns):\n",
      " #   Column          Non-Null Count  Dtype \n",
      "---  ------          --------------  ----- \n",
      " 0   gender          200 non-null    object\n",
      " 1   age             200 non-null    int64 \n",
      " 2   annual_income   200 non-null    int64 \n",
      " 3   spending_score  200 non-null    int64 \n",
      "dtypes: int64(3), object(1)\n",
      "memory usage: 7.8+ KB\n"
     ]
    }
   ],
   "source": [
    "df.info()"
   ]
  },
  {
   "cell_type": "markdown",
   "id": "4146eb2b",
   "metadata": {},
   "source": [
    "## Prepare"
   ]
  },
  {
   "cell_type": "markdown",
   "id": "75310d91",
   "metadata": {},
   "source": [
    "Since my dataset was so small, I made my validate and test dataframes smaller than normal\n",
    "- this is probably too small to be utilized in the real world\n",
    "- the tiny validate and test are just to show the steps of working through a split df"
   ]
  },
  {
   "cell_type": "code",
   "execution_count": 4,
   "id": "3cbc612f",
   "metadata": {},
   "outputs": [],
   "source": [
    "def train_validate_test_split(df, seed=123):\n",
    "    '''\n",
    "    accepts dataframe and splits the data into train, validate and test \n",
    "    '''\n",
    "    train_validate, test = train_test_split(df, test_size=0.05, random_state=seed)\n",
    "    train, validate = train_test_split(train_validate, test_size=0.05, random_state=seed)\n",
    "    return train, validate, test"
   ]
  },
  {
   "cell_type": "code",
   "execution_count": 5,
   "id": "e06d2f62",
   "metadata": {},
   "outputs": [],
   "source": [
    "def scale_my_data(train, validate, test, features):\n",
    "    '''\n",
    "    scale my data using minmaxscaler, input the features to scale\n",
    "    '''\n",
    "    scaler = MinMaxScaler()\n",
    "    scaler.fit(train[features])\n",
    "    \n",
    "    train_scaled = scaler.transform(train[features])\n",
    "    validate_scaled = scaler.transform(validate[features])\n",
    "    test_scaled = scaler.transform(test[features])\n",
    "\n",
    "    train_scaled = pd.DataFrame(train_scaled, index=train.index, columns=features)\n",
    "    validate_scaled = pd.DataFrame(validate_scaled, index=validate.index, columns=features)\n",
    "    test_scaled = pd.DataFrame(test_scaled, index=test.index, columns=features)\n",
    "    \n",
    "    return train_scaled, validate_scaled, test_scaled"
   ]
  },
  {
   "cell_type": "code",
   "execution_count": 6,
   "id": "2d044620",
   "metadata": {},
   "outputs": [],
   "source": [
    "def prep_mall(df):\n",
    "    '''\n",
    "    dummy var for gender into is_male\n",
    "    split on target of 'spending_score'\n",
    "    scale age and annual income. \n",
    "    '''\n",
    "#     df['is_male'] = pd.get_dummies(df['gender'], drop_first=True)['Male']\n",
    "    train, validate, test = train_validate_test_split(df)\n",
    "    \n",
    "    print(f'df: {df.shape}')\n",
    "    print()\n",
    "    print(f'train: {train.shape}')\n",
    "    print(f'validate: {validate.shape}')\n",
    "    print(f'test: {test.shape}')\n",
    "    return train, validate, test"
   ]
  },
  {
   "cell_type": "code",
   "execution_count": 7,
   "id": "66c38b7d",
   "metadata": {},
   "outputs": [
    {
     "name": "stdout",
     "output_type": "stream",
     "text": [
      "df: (200, 4)\n",
      "\n",
      "train: (180, 4)\n",
      "validate: (10, 4)\n",
      "test: (10, 4)\n"
     ]
    }
   ],
   "source": [
    "#prep my data!\n",
    "train, validate, test = prep_mall(df)"
   ]
  },
  {
   "cell_type": "code",
   "execution_count": 8,
   "id": "3cc978ab",
   "metadata": {},
   "outputs": [
    {
     "data": {
      "text/html": [
       "<div>\n",
       "<style scoped>\n",
       "    .dataframe tbody tr th:only-of-type {\n",
       "        vertical-align: middle;\n",
       "    }\n",
       "\n",
       "    .dataframe tbody tr th {\n",
       "        vertical-align: top;\n",
       "    }\n",
       "\n",
       "    .dataframe thead th {\n",
       "        text-align: right;\n",
       "    }\n",
       "</style>\n",
       "<table border=\"1\" class=\"dataframe\">\n",
       "  <thead>\n",
       "    <tr style=\"text-align: right;\">\n",
       "      <th></th>\n",
       "      <th>gender</th>\n",
       "      <th>age</th>\n",
       "      <th>annual_income</th>\n",
       "      <th>spending_score</th>\n",
       "    </tr>\n",
       "    <tr>\n",
       "      <th>customer_id</th>\n",
       "      <th></th>\n",
       "      <th></th>\n",
       "      <th></th>\n",
       "      <th></th>\n",
       "    </tr>\n",
       "  </thead>\n",
       "  <tbody>\n",
       "    <tr>\n",
       "      <th>53</th>\n",
       "      <td>Female</td>\n",
       "      <td>31</td>\n",
       "      <td>43</td>\n",
       "      <td>54</td>\n",
       "    </tr>\n",
       "    <tr>\n",
       "      <th>98</th>\n",
       "      <td>Female</td>\n",
       "      <td>27</td>\n",
       "      <td>60</td>\n",
       "      <td>50</td>\n",
       "    </tr>\n",
       "    <tr>\n",
       "      <th>198</th>\n",
       "      <td>Male</td>\n",
       "      <td>32</td>\n",
       "      <td>126</td>\n",
       "      <td>74</td>\n",
       "    </tr>\n",
       "    <tr>\n",
       "      <th>43</th>\n",
       "      <td>Male</td>\n",
       "      <td>48</td>\n",
       "      <td>39</td>\n",
       "      <td>36</td>\n",
       "    </tr>\n",
       "    <tr>\n",
       "      <th>160</th>\n",
       "      <td>Female</td>\n",
       "      <td>30</td>\n",
       "      <td>78</td>\n",
       "      <td>73</td>\n",
       "    </tr>\n",
       "  </tbody>\n",
       "</table>\n",
       "</div>"
      ],
      "text/plain": [
       "             gender  age  annual_income  spending_score\n",
       "customer_id                                            \n",
       "53           Female   31             43              54\n",
       "98           Female   27             60              50\n",
       "198            Male   32            126              74\n",
       "43             Male   48             39              36\n",
       "160          Female   30             78              73"
      ]
     },
     "execution_count": 8,
     "metadata": {},
     "output_type": "execute_result"
    }
   ],
   "source": [
    "train.head()"
   ]
  },
  {
   "cell_type": "code",
   "execution_count": 10,
   "id": "1b825a0f",
   "metadata": {},
   "outputs": [],
   "source": [
    "features_to_scale = ['age','annual_income','spending_score']"
   ]
  },
  {
   "cell_type": "code",
   "execution_count": 11,
   "id": "cc1dc04f",
   "metadata": {},
   "outputs": [
    {
     "data": {
      "text/html": [
       "<div>\n",
       "<style scoped>\n",
       "    .dataframe tbody tr th:only-of-type {\n",
       "        vertical-align: middle;\n",
       "    }\n",
       "\n",
       "    .dataframe tbody tr th {\n",
       "        vertical-align: top;\n",
       "    }\n",
       "\n",
       "    .dataframe thead th {\n",
       "        text-align: right;\n",
       "    }\n",
       "</style>\n",
       "<table border=\"1\" class=\"dataframe\">\n",
       "  <thead>\n",
       "    <tr style=\"text-align: right;\">\n",
       "      <th></th>\n",
       "      <th>age</th>\n",
       "      <th>annual_income</th>\n",
       "      <th>spending_score</th>\n",
       "    </tr>\n",
       "    <tr>\n",
       "      <th>customer_id</th>\n",
       "      <th></th>\n",
       "      <th></th>\n",
       "      <th></th>\n",
       "    </tr>\n",
       "  </thead>\n",
       "  <tbody>\n",
       "    <tr>\n",
       "      <th>53</th>\n",
       "      <td>0.250000</td>\n",
       "      <td>0.229508</td>\n",
       "      <td>0.540816</td>\n",
       "    </tr>\n",
       "    <tr>\n",
       "      <th>98</th>\n",
       "      <td>0.173077</td>\n",
       "      <td>0.368852</td>\n",
       "      <td>0.500000</td>\n",
       "    </tr>\n",
       "    <tr>\n",
       "      <th>198</th>\n",
       "      <td>0.269231</td>\n",
       "      <td>0.909836</td>\n",
       "      <td>0.744898</td>\n",
       "    </tr>\n",
       "    <tr>\n",
       "      <th>43</th>\n",
       "      <td>0.576923</td>\n",
       "      <td>0.196721</td>\n",
       "      <td>0.357143</td>\n",
       "    </tr>\n",
       "    <tr>\n",
       "      <th>160</th>\n",
       "      <td>0.230769</td>\n",
       "      <td>0.516393</td>\n",
       "      <td>0.734694</td>\n",
       "    </tr>\n",
       "    <tr>\n",
       "      <th>...</th>\n",
       "      <td>...</td>\n",
       "      <td>...</td>\n",
       "      <td>...</td>\n",
       "    </tr>\n",
       "    <tr>\n",
       "      <th>27</th>\n",
       "      <td>0.519231</td>\n",
       "      <td>0.106557</td>\n",
       "      <td>0.316327</td>\n",
       "    </tr>\n",
       "    <tr>\n",
       "      <th>164</th>\n",
       "      <td>0.250000</td>\n",
       "      <td>0.540984</td>\n",
       "      <td>0.938776</td>\n",
       "    </tr>\n",
       "    <tr>\n",
       "      <th>193</th>\n",
       "      <td>0.288462</td>\n",
       "      <td>0.803279</td>\n",
       "      <td>0.071429</td>\n",
       "    </tr>\n",
       "    <tr>\n",
       "      <th>57</th>\n",
       "      <td>0.634615</td>\n",
       "      <td>0.237705</td>\n",
       "      <td>0.500000</td>\n",
       "    </tr>\n",
       "    <tr>\n",
       "      <th>142</th>\n",
       "      <td>0.269231</td>\n",
       "      <td>0.491803</td>\n",
       "      <td>0.938776</td>\n",
       "    </tr>\n",
       "  </tbody>\n",
       "</table>\n",
       "<p>180 rows × 3 columns</p>\n",
       "</div>"
      ],
      "text/plain": [
       "                  age  annual_income  spending_score\n",
       "customer_id                                         \n",
       "53           0.250000       0.229508        0.540816\n",
       "98           0.173077       0.368852        0.500000\n",
       "198          0.269231       0.909836        0.744898\n",
       "43           0.576923       0.196721        0.357143\n",
       "160          0.230769       0.516393        0.734694\n",
       "...               ...            ...             ...\n",
       "27           0.519231       0.106557        0.316327\n",
       "164          0.250000       0.540984        0.938776\n",
       "193          0.288462       0.803279        0.071429\n",
       "57           0.634615       0.237705        0.500000\n",
       "142          0.269231       0.491803        0.938776\n",
       "\n",
       "[180 rows x 3 columns]"
      ]
     },
     "execution_count": 11,
     "metadata": {},
     "output_type": "execute_result"
    }
   ],
   "source": [
    "train_scaled, validate_scaled, test_scaled = scale_my_data(train, validate, test, features_to_scale)\n",
    "train_scaled"
   ]
  },
  {
   "cell_type": "markdown",
   "id": "9234779b",
   "metadata": {},
   "source": [
    "## Explore"
   ]
  },
  {
   "cell_type": "markdown",
   "id": "45d9dd6c",
   "metadata": {},
   "source": [
    "We explored all the things!\n",
    "- hypothesize\n",
    "- visualize\n",
    "- statisticize\n",
    "- summarize\n",
    "\n",
    "We found that age, annual_income, and spending score looked like were good canidates for clusters. "
   ]
  },
  {
   "cell_type": "markdown",
   "id": "e05dd05b",
   "metadata": {},
   "source": [
    "We utilized the elbow method to determine the best number of clusters"
   ]
  },
  {
   "cell_type": "code",
   "execution_count": 12,
   "id": "129c651d",
   "metadata": {},
   "outputs": [
    {
     "data": {
      "image/png": "[encoded data removed]",
      "text/plain": [
       "<Figure size 640x480 with 1 Axes>"
      ]
     },
     "metadata": {},
     "output_type": "display_data"
    }
   ],
   "source": [
    "# lets plot inertia vs k\n",
    "pd.Series(\n",
    "    {k: KMeans(k, random_state=42, n_init=10).fit(train_scaled).inertia_ for k in range(2, 12)}).plot(marker='x')\n",
    "plt.xticks(range(2, 12))\n",
    "plt.xlabel('k')\n",
    "plt.ylabel('inertia')\n",
    "plt.title('Change in inertia as k increases')\n",
    "plt.grid()"
   ]
  },
  {
   "cell_type": "markdown",
   "id": "b8f99f12",
   "metadata": {},
   "source": [
    "#### Move forward optimal cluster number (i choose 4)"
   ]
  },
  {
   "cell_type": "code",
   "execution_count": 13,
   "id": "152d0b70",
   "metadata": {},
   "outputs": [
    {
     "data": {
      "text/plain": [
       "array([2, 2, 0, 1, 0, 1, 1, 1, 2, 2, 1, 0, 2, 3, 2, 3, 1, 3, 1, 2, 3, 2,\n",
       "       0, 3, 0, 2, 1, 2, 2, 0, 0, 1, 1, 0, 3, 1, 2, 0, 2, 0, 0, 3, 2, 0,\n",
       "       3, 1, 2, 1, 1, 1, 2, 1, 1, 2, 3, 1, 2, 2, 2, 2, 1, 3, 1, 2, 0, 3,\n",
       "       0, 1, 1, 0, 1, 3, 1, 1, 1, 2, 3, 0, 1, 2, 2, 2, 3, 0, 1, 3, 2, 3,\n",
       "       0, 0, 2, 2, 2, 3, 2, 2, 1, 2, 3, 1, 1, 2, 0, 0, 2, 2, 0, 1, 1, 2,\n",
       "       2, 0, 1, 0, 1, 3, 3, 2, 3, 0, 2, 2, 2, 1, 3, 2, 1, 1, 2, 1, 0, 3,\n",
       "       1, 2, 3, 1, 1, 2, 2, 2, 1, 3, 0, 1, 1, 1, 2, 0, 0, 2, 2, 1, 1, 0,\n",
       "       3, 0, 1, 3, 1, 2, 2, 1, 1, 2, 3, 2, 2, 0, 3, 1, 3, 1, 1, 0, 1, 1,\n",
       "       0, 3, 1, 0], dtype=int32)"
      ]
     },
     "execution_count": 13,
     "metadata": {},
     "output_type": "execute_result"
    }
   ],
   "source": [
    "#make it\n",
    "kmeans = KMeans(n_clusters = 4, random_state=42, n_init=10)\n",
    "\n",
    "#fit it\n",
    "kmeans.fit(train_scaled)\n",
    "\n",
    "#use it\n",
    "kmeans.predict(train_scaled)"
   ]
  },
  {
   "cell_type": "markdown",
   "id": "21fb8422",
   "metadata": {},
   "source": [
    "#### Now save all of the newly created clusters"
   ]
  },
  {
   "cell_type": "code",
   "execution_count": 14,
   "id": "9c8edc6d",
   "metadata": {},
   "outputs": [
    {
     "data": {
      "text/html": [
       "<div>\n",
       "<style scoped>\n",
       "    .dataframe tbody tr th:only-of-type {\n",
       "        vertical-align: middle;\n",
       "    }\n",
       "\n",
       "    .dataframe tbody tr th {\n",
       "        vertical-align: top;\n",
       "    }\n",
       "\n",
       "    .dataframe thead th {\n",
       "        text-align: right;\n",
       "    }\n",
       "</style>\n",
       "<table border=\"1\" class=\"dataframe\">\n",
       "  <thead>\n",
       "    <tr style=\"text-align: right;\">\n",
       "      <th></th>\n",
       "      <th>age</th>\n",
       "      <th>annual_income</th>\n",
       "      <th>spending_score</th>\n",
       "      <th>cluster</th>\n",
       "    </tr>\n",
       "    <tr>\n",
       "      <th>customer_id</th>\n",
       "      <th></th>\n",
       "      <th></th>\n",
       "      <th></th>\n",
       "      <th></th>\n",
       "    </tr>\n",
       "  </thead>\n",
       "  <tbody>\n",
       "    <tr>\n",
       "      <th>53</th>\n",
       "      <td>0.250000</td>\n",
       "      <td>0.229508</td>\n",
       "      <td>0.540816</td>\n",
       "      <td>2</td>\n",
       "    </tr>\n",
       "    <tr>\n",
       "      <th>98</th>\n",
       "      <td>0.173077</td>\n",
       "      <td>0.368852</td>\n",
       "      <td>0.500000</td>\n",
       "      <td>2</td>\n",
       "    </tr>\n",
       "    <tr>\n",
       "      <th>198</th>\n",
       "      <td>0.269231</td>\n",
       "      <td>0.909836</td>\n",
       "      <td>0.744898</td>\n",
       "      <td>0</td>\n",
       "    </tr>\n",
       "    <tr>\n",
       "      <th>43</th>\n",
       "      <td>0.576923</td>\n",
       "      <td>0.196721</td>\n",
       "      <td>0.357143</td>\n",
       "      <td>1</td>\n",
       "    </tr>\n",
       "    <tr>\n",
       "      <th>160</th>\n",
       "      <td>0.230769</td>\n",
       "      <td>0.516393</td>\n",
       "      <td>0.734694</td>\n",
       "      <td>0</td>\n",
       "    </tr>\n",
       "  </tbody>\n",
       "</table>\n",
       "</div>"
      ],
      "text/plain": [
       "                  age  annual_income  spending_score  cluster\n",
       "customer_id                                                  \n",
       "53           0.250000       0.229508        0.540816        2\n",
       "98           0.173077       0.368852        0.500000        2\n",
       "198          0.269231       0.909836        0.744898        0\n",
       "43           0.576923       0.196721        0.357143        1\n",
       "160          0.230769       0.516393        0.734694        0"
      ]
     },
     "execution_count": 14,
     "metadata": {},
     "output_type": "execute_result"
    }
   ],
   "source": [
    "# And assign the cluster number to a column on the dataframe\n",
    "train_scaled[\"cluster\"] = kmeans.predict(train_scaled)\n",
    "train_scaled.head()"
   ]
  },
  {
   "cell_type": "markdown",
   "id": "b32c71e1",
   "metadata": {},
   "source": [
    "## Yay clusters! What next?\n",
    "\n",
    "- Step 1: Explore the clusters\n",
    "- Step 2: Name the clusters\n",
    "- Step 3: \n",
    "    - Option 1: Dimensionality reduction\n",
    "    - Option 2: Treat cluster names as a new target variable\n",
    "    - Option 3: Perform deeper EDA\n",
    "    - Option 4: Make many models"
   ]
  },
  {
   "cell_type": "markdown",
   "id": "9aa1589b",
   "metadata": {},
   "source": [
    "### Step 1: Explore the clusters\n",
    "\n",
    "see how they are similiar or different"
   ]
  },
  {
   "cell_type": "code",
   "execution_count": 20,
   "id": "d065270f",
   "metadata": {},
   "outputs": [
    {
     "data": {
      "image/png": "[encoded data removed]",
      "text/plain": [
       "<Figure size 1072.12x1000 with 4 Axes>"
      ]
     },
     "metadata": {},
     "output_type": "display_data"
    }
   ],
   "source": [
    "# plot out income vs. spending with regard to the cluster and age\n",
    "sns.relplot(data=train_scaled,\n",
    "           x='annual_income',\n",
    "           y='spending_score',\n",
    "           hue='age',\n",
    "           col='cluster',\n",
    "           col_wrap=2)\n",
    "plt.show()"
   ]
  },
  {
   "cell_type": "markdown",
   "id": "4d4ac5f6",
   "metadata": {},
   "source": [
    "### Step 2: Name the clusters \n",
    "\n",
    "use natural, descriptive language"
   ]
  },
  {
   "cell_type": "code",
   "execution_count": 23,
   "id": "712ab8f6",
   "metadata": {},
   "outputs": [],
   "source": [
    "#rename using map\n",
    "train['cluster'] = train_scaled.cluster.map({\n",
    "    0:\"young_ballers\",\n",
    "    1:\"old_poor\",\n",
    "    2:\"young_spending_above\",\n",
    "    3:\"frugal\"\n",
    "})\n"
   ]
  },
  {
   "cell_type": "code",
   "execution_count": 24,
   "id": "77cd75c5",
   "metadata": {},
   "outputs": [
    {
     "data": {
      "text/html": [
       "<div>\n",
       "<style scoped>\n",
       "    .dataframe tbody tr th:only-of-type {\n",
       "        vertical-align: middle;\n",
       "    }\n",
       "\n",
       "    .dataframe tbody tr th {\n",
       "        vertical-align: top;\n",
       "    }\n",
       "\n",
       "    .dataframe thead th {\n",
       "        text-align: right;\n",
       "    }\n",
       "</style>\n",
       "<table border=\"1\" class=\"dataframe\">\n",
       "  <thead>\n",
       "    <tr style=\"text-align: right;\">\n",
       "      <th></th>\n",
       "      <th>gender</th>\n",
       "      <th>age</th>\n",
       "      <th>annual_income</th>\n",
       "      <th>spending_score</th>\n",
       "      <th>cluster</th>\n",
       "    </tr>\n",
       "    <tr>\n",
       "      <th>customer_id</th>\n",
       "      <th></th>\n",
       "      <th></th>\n",
       "      <th></th>\n",
       "      <th></th>\n",
       "      <th></th>\n",
       "    </tr>\n",
       "  </thead>\n",
       "  <tbody>\n",
       "    <tr>\n",
       "      <th>53</th>\n",
       "      <td>Female</td>\n",
       "      <td>31</td>\n",
       "      <td>43</td>\n",
       "      <td>54</td>\n",
       "      <td>young_spending_above</td>\n",
       "    </tr>\n",
       "    <tr>\n",
       "      <th>98</th>\n",
       "      <td>Female</td>\n",
       "      <td>27</td>\n",
       "      <td>60</td>\n",
       "      <td>50</td>\n",
       "      <td>young_spending_above</td>\n",
       "    </tr>\n",
       "    <tr>\n",
       "      <th>198</th>\n",
       "      <td>Male</td>\n",
       "      <td>32</td>\n",
       "      <td>126</td>\n",
       "      <td>74</td>\n",
       "      <td>young_ballers</td>\n",
       "    </tr>\n",
       "    <tr>\n",
       "      <th>43</th>\n",
       "      <td>Male</td>\n",
       "      <td>48</td>\n",
       "      <td>39</td>\n",
       "      <td>36</td>\n",
       "      <td>old_poor</td>\n",
       "    </tr>\n",
       "    <tr>\n",
       "      <th>160</th>\n",
       "      <td>Female</td>\n",
       "      <td>30</td>\n",
       "      <td>78</td>\n",
       "      <td>73</td>\n",
       "      <td>young_ballers</td>\n",
       "    </tr>\n",
       "  </tbody>\n",
       "</table>\n",
       "</div>"
      ],
      "text/plain": [
       "             gender  age  annual_income  spending_score               cluster\n",
       "customer_id                                                                  \n",
       "53           Female   31             43              54  young_spending_above\n",
       "98           Female   27             60              50  young_spending_above\n",
       "198            Male   32            126              74         young_ballers\n",
       "43             Male   48             39              36              old_poor\n",
       "160          Female   30             78              73         young_ballers"
      ]
     },
     "execution_count": 24,
     "metadata": {},
     "output_type": "execute_result"
    }
   ],
   "source": [
    "train.head()"
   ]
  },
  {
   "cell_type": "markdown",
   "id": "8ebe36a8",
   "metadata": {},
   "source": [
    "### Step 3: Options"
   ]
  },
  {
   "cell_type": "markdown",
   "id": "83b74dfa",
   "metadata": {},
   "source": [
    "#### Let's say our mall dataset had more features in it, this will allow us to better utilize our clusters"
   ]
  },
  {
   "cell_type": "code",
   "execution_count": 25,
   "id": "87b1dbcd",
   "metadata": {},
   "outputs": [],
   "source": [
    "train['transportation'] = np.random.choice(['personal_vehicle','walking','dropoff'],len(train),p=[.75,0.05,.2])\n",
    "train['group_size'] = np.random.randint(1,10,len(train))\n",
    "train['hair_color'] = np.random.choice(['black','brown','blonde','grey','other'],len(train))"
   ]
  },
  {
   "cell_type": "code",
   "execution_count": 26,
   "id": "8d521c84",
   "metadata": {},
   "outputs": [
    {
     "data": {
      "text/html": [
       "<div>\n",
       "<style scoped>\n",
       "    .dataframe tbody tr th:only-of-type {\n",
       "        vertical-align: middle;\n",
       "    }\n",
       "\n",
       "    .dataframe tbody tr th {\n",
       "        vertical-align: top;\n",
       "    }\n",
       "\n",
       "    .dataframe thead th {\n",
       "        text-align: right;\n",
       "    }\n",
       "</style>\n",
       "<table border=\"1\" class=\"dataframe\">\n",
       "  <thead>\n",
       "    <tr style=\"text-align: right;\">\n",
       "      <th></th>\n",
       "      <th>gender</th>\n",
       "      <th>age</th>\n",
       "      <th>annual_income</th>\n",
       "      <th>spending_score</th>\n",
       "      <th>cluster</th>\n",
       "      <th>transportation</th>\n",
       "      <th>group_size</th>\n",
       "      <th>hair_color</th>\n",
       "    </tr>\n",
       "    <tr>\n",
       "      <th>customer_id</th>\n",
       "      <th></th>\n",
       "      <th></th>\n",
       "      <th></th>\n",
       "      <th></th>\n",
       "      <th></th>\n",
       "      <th></th>\n",
       "      <th></th>\n",
       "      <th></th>\n",
       "    </tr>\n",
       "  </thead>\n",
       "  <tbody>\n",
       "    <tr>\n",
       "      <th>53</th>\n",
       "      <td>Female</td>\n",
       "      <td>31</td>\n",
       "      <td>43</td>\n",
       "      <td>54</td>\n",
       "      <td>young_spending_above</td>\n",
       "      <td>personal_vehicle</td>\n",
       "      <td>3</td>\n",
       "      <td>blonde</td>\n",
       "    </tr>\n",
       "    <tr>\n",
       "      <th>98</th>\n",
       "      <td>Female</td>\n",
       "      <td>27</td>\n",
       "      <td>60</td>\n",
       "      <td>50</td>\n",
       "      <td>young_spending_above</td>\n",
       "      <td>personal_vehicle</td>\n",
       "      <td>7</td>\n",
       "      <td>black</td>\n",
       "    </tr>\n",
       "    <tr>\n",
       "      <th>198</th>\n",
       "      <td>Male</td>\n",
       "      <td>32</td>\n",
       "      <td>126</td>\n",
       "      <td>74</td>\n",
       "      <td>young_ballers</td>\n",
       "      <td>dropoff</td>\n",
       "      <td>7</td>\n",
       "      <td>grey</td>\n",
       "    </tr>\n",
       "    <tr>\n",
       "      <th>43</th>\n",
       "      <td>Male</td>\n",
       "      <td>48</td>\n",
       "      <td>39</td>\n",
       "      <td>36</td>\n",
       "      <td>old_poor</td>\n",
       "      <td>dropoff</td>\n",
       "      <td>5</td>\n",
       "      <td>blonde</td>\n",
       "    </tr>\n",
       "    <tr>\n",
       "      <th>160</th>\n",
       "      <td>Female</td>\n",
       "      <td>30</td>\n",
       "      <td>78</td>\n",
       "      <td>73</td>\n",
       "      <td>young_ballers</td>\n",
       "      <td>personal_vehicle</td>\n",
       "      <td>2</td>\n",
       "      <td>other</td>\n",
       "    </tr>\n",
       "  </tbody>\n",
       "</table>\n",
       "</div>"
      ],
      "text/plain": [
       "             gender  age  annual_income  spending_score               cluster  \\\n",
       "customer_id                                                                     \n",
       "53           Female   31             43              54  young_spending_above   \n",
       "98           Female   27             60              50  young_spending_above   \n",
       "198            Male   32            126              74         young_ballers   \n",
       "43             Male   48             39              36              old_poor   \n",
       "160          Female   30             78              73         young_ballers   \n",
       "\n",
       "               transportation  group_size hair_color  \n",
       "customer_id                                           \n",
       "53           personal_vehicle           3     blonde  \n",
       "98           personal_vehicle           7      black  \n",
       "198                   dropoff           7       grey  \n",
       "43                    dropoff           5     blonde  \n",
       "160          personal_vehicle           2      other  "
      ]
     },
     "execution_count": 26,
     "metadata": {},
     "output_type": "execute_result"
    }
   ],
   "source": [
    "train.head()"
   ]
  },
  {
   "cell_type": "markdown",
   "id": "cfd8daa0",
   "metadata": {},
   "source": [
    "### Option 1: Use the clusters to simplify multiple other variables\n",
    "- Since the cluster names make sense, we can use them instead of age, spending, and income\n",
    "    - this potentially makes our features simplier and easier to explain\n",
    "        - helpful for storytelling\n",
    "    - this allows us to reduce features\n",
    "        - likely help model performance (regression, classification)"
   ]
  },
  {
   "cell_type": "code",
   "execution_count": 39,
   "id": "1aad46ee",
   "metadata": {},
   "outputs": [
    {
     "ename": "TypeError",
     "evalue": "barh() missing 2 required positional arguments: 'y' and 'width'",
     "output_type": "error",
     "traceback": [
      "\u001b[0;31m---------------------------------------------------------------------------\u001b[0m",
      "\u001b[0;31mTypeError\u001b[0m                                 Traceback (most recent call last)",
      "\u001b[0;32m/var/folders/bf/lhpb5n_j1xj4msxy6nrm9h7h0000gn/T/ipykernel_41716/363275284.py\u001b[0m in \u001b[0;36m<module>\u001b[0;34m\u001b[0m\n\u001b[0;32m----> 1\u001b[0;31m \u001b[0mtrain\u001b[0m\u001b[0;34m.\u001b[0m\u001b[0mcluster\u001b[0m\u001b[0;34m.\u001b[0m\u001b[0mvalue_counts\u001b[0m\u001b[0;34m(\u001b[0m\u001b[0;34m)\u001b[0m\u001b[0;34m.\u001b[0m\u001b[0mplot\u001b[0m\u001b[0;34m(\u001b[0m\u001b[0;34m)\u001b[0m\u001b[0;34m.\u001b[0m\u001b[0mbarh\u001b[0m\u001b[0;34m(\u001b[0m\u001b[0;34m)\u001b[0m\u001b[0;34m\u001b[0m\u001b[0;34m\u001b[0m\u001b[0m\n\u001b[0m",
      "\u001b[0;31mTypeError\u001b[0m: barh() missing 2 required positional arguments: 'y' and 'width'"
     ]
    },
    {
     "data": {
      "image/png": "[encoded data removed]",
      "text/plain": [
       "<Figure size 640x480 with 1 Axes>"
      ]
     },
     "metadata": {},
     "output_type": "display_data"
    }
   ],
   "source": [
    "train.cluster.value_counts().plot().barh()"
   ]
  },
  {
   "cell_type": "code",
   "execution_count": null,
   "id": "00d3bb2b",
   "metadata": {},
   "outputs": [],
   "source": []
  },
  {
   "cell_type": "markdown",
   "id": "8b8855d0",
   "metadata": {},
   "source": [
    "#### lets say we wanted to predict transportation"
   ]
  },
  {
   "cell_type": "code",
   "execution_count": null,
   "id": "d071c890",
   "metadata": {},
   "outputs": [],
   "source": []
  },
  {
   "cell_type": "markdown",
   "id": "a79b1747",
   "metadata": {},
   "source": [
    "we will now build a classification model since we have a target"
   ]
  },
  {
   "cell_type": "code",
   "execution_count": 28,
   "id": "f7398900",
   "metadata": {},
   "outputs": [
    {
     "data": {
      "text/plain": [
       "customer_id\n",
       "53     personal_vehicle\n",
       "98     personal_vehicle\n",
       "198             dropoff\n",
       "43              dropoff\n",
       "160    personal_vehicle\n",
       "Name: transportation, dtype: object"
      ]
     },
     "execution_count": 28,
     "metadata": {},
     "output_type": "execute_result"
    }
   ],
   "source": [
    "#define y_train\n",
    "y_train = train.transportation\n",
    "y_train.head()"
   ]
  },
  {
   "cell_type": "markdown",
   "id": "fd989788",
   "metadata": {},
   "source": [
    "without our clusters"
   ]
  },
  {
   "cell_type": "code",
   "execution_count": 30,
   "id": "7534b1af",
   "metadata": {},
   "outputs": [
    {
     "data": {
      "text/html": [
       "<div>\n",
       "<style scoped>\n",
       "    .dataframe tbody tr th:only-of-type {\n",
       "        vertical-align: middle;\n",
       "    }\n",
       "\n",
       "    .dataframe tbody tr th {\n",
       "        vertical-align: top;\n",
       "    }\n",
       "\n",
       "    .dataframe thead th {\n",
       "        text-align: right;\n",
       "    }\n",
       "</style>\n",
       "<table border=\"1\" class=\"dataframe\">\n",
       "  <thead>\n",
       "    <tr style=\"text-align: right;\">\n",
       "      <th></th>\n",
       "      <th>gender</th>\n",
       "      <th>age</th>\n",
       "      <th>annual_income</th>\n",
       "      <th>spending_score</th>\n",
       "      <th>group_size</th>\n",
       "      <th>hair_color</th>\n",
       "    </tr>\n",
       "    <tr>\n",
       "      <th>customer_id</th>\n",
       "      <th></th>\n",
       "      <th></th>\n",
       "      <th></th>\n",
       "      <th></th>\n",
       "      <th></th>\n",
       "      <th></th>\n",
       "    </tr>\n",
       "  </thead>\n",
       "  <tbody>\n",
       "    <tr>\n",
       "      <th>53</th>\n",
       "      <td>Female</td>\n",
       "      <td>31</td>\n",
       "      <td>43</td>\n",
       "      <td>54</td>\n",
       "      <td>3</td>\n",
       "      <td>blonde</td>\n",
       "    </tr>\n",
       "    <tr>\n",
       "      <th>98</th>\n",
       "      <td>Female</td>\n",
       "      <td>27</td>\n",
       "      <td>60</td>\n",
       "      <td>50</td>\n",
       "      <td>7</td>\n",
       "      <td>black</td>\n",
       "    </tr>\n",
       "    <tr>\n",
       "      <th>198</th>\n",
       "      <td>Male</td>\n",
       "      <td>32</td>\n",
       "      <td>126</td>\n",
       "      <td>74</td>\n",
       "      <td>7</td>\n",
       "      <td>grey</td>\n",
       "    </tr>\n",
       "    <tr>\n",
       "      <th>43</th>\n",
       "      <td>Male</td>\n",
       "      <td>48</td>\n",
       "      <td>39</td>\n",
       "      <td>36</td>\n",
       "      <td>5</td>\n",
       "      <td>blonde</td>\n",
       "    </tr>\n",
       "    <tr>\n",
       "      <th>160</th>\n",
       "      <td>Female</td>\n",
       "      <td>30</td>\n",
       "      <td>78</td>\n",
       "      <td>73</td>\n",
       "      <td>2</td>\n",
       "      <td>other</td>\n",
       "    </tr>\n",
       "  </tbody>\n",
       "</table>\n",
       "</div>"
      ],
      "text/plain": [
       "             gender  age  annual_income  spending_score  group_size hair_color\n",
       "customer_id                                                                   \n",
       "53           Female   31             43              54           3     blonde\n",
       "98           Female   27             60              50           7      black\n",
       "198            Male   32            126              74           7       grey\n",
       "43             Male   48             39              36           5     blonde\n",
       "160          Female   30             78              73           2      other"
      ]
     },
     "execution_count": 30,
     "metadata": {},
     "output_type": "execute_result"
    }
   ],
   "source": [
    "#define X_train\n",
    "X_train = train[['gender', 'age', 'annual_income', 'spending_score', 'group_size', 'hair_color']]\n",
    "X_train.head()"
   ]
  },
  {
   "cell_type": "markdown",
   "id": "694f9e7b",
   "metadata": {},
   "source": [
    "with our clusters"
   ]
  },
  {
   "cell_type": "code",
   "execution_count": 31,
   "id": "56680840",
   "metadata": {},
   "outputs": [
    {
     "data": {
      "text/html": [
       "<div>\n",
       "<style scoped>\n",
       "    .dataframe tbody tr th:only-of-type {\n",
       "        vertical-align: middle;\n",
       "    }\n",
       "\n",
       "    .dataframe tbody tr th {\n",
       "        vertical-align: top;\n",
       "    }\n",
       "\n",
       "    .dataframe thead th {\n",
       "        text-align: right;\n",
       "    }\n",
       "</style>\n",
       "<table border=\"1\" class=\"dataframe\">\n",
       "  <thead>\n",
       "    <tr style=\"text-align: right;\">\n",
       "      <th></th>\n",
       "      <th>gender</th>\n",
       "      <th>cluster</th>\n",
       "      <th>group_size</th>\n",
       "      <th>hair_color</th>\n",
       "    </tr>\n",
       "    <tr>\n",
       "      <th>customer_id</th>\n",
       "      <th></th>\n",
       "      <th></th>\n",
       "      <th></th>\n",
       "      <th></th>\n",
       "    </tr>\n",
       "  </thead>\n",
       "  <tbody>\n",
       "    <tr>\n",
       "      <th>53</th>\n",
       "      <td>Female</td>\n",
       "      <td>young_spending_above</td>\n",
       "      <td>3</td>\n",
       "      <td>blonde</td>\n",
       "    </tr>\n",
       "    <tr>\n",
       "      <th>98</th>\n",
       "      <td>Female</td>\n",
       "      <td>young_spending_above</td>\n",
       "      <td>7</td>\n",
       "      <td>black</td>\n",
       "    </tr>\n",
       "    <tr>\n",
       "      <th>198</th>\n",
       "      <td>Male</td>\n",
       "      <td>young_ballers</td>\n",
       "      <td>7</td>\n",
       "      <td>grey</td>\n",
       "    </tr>\n",
       "    <tr>\n",
       "      <th>43</th>\n",
       "      <td>Male</td>\n",
       "      <td>old_poor</td>\n",
       "      <td>5</td>\n",
       "      <td>blonde</td>\n",
       "    </tr>\n",
       "    <tr>\n",
       "      <th>160</th>\n",
       "      <td>Female</td>\n",
       "      <td>young_ballers</td>\n",
       "      <td>2</td>\n",
       "      <td>other</td>\n",
       "    </tr>\n",
       "  </tbody>\n",
       "</table>\n",
       "</div>"
      ],
      "text/plain": [
       "             gender               cluster  group_size hair_color\n",
       "customer_id                                                     \n",
       "53           Female  young_spending_above           3     blonde\n",
       "98           Female  young_spending_above           7      black\n",
       "198            Male         young_ballers           7       grey\n",
       "43             Male              old_poor           5     blonde\n",
       "160          Female         young_ballers           2      other"
      ]
     },
     "execution_count": 31,
     "metadata": {},
     "output_type": "execute_result"
    }
   ],
   "source": [
    "#define X_train\n",
    "X_train = train[['gender', 'cluster', 'group_size', 'hair_color']]\n",
    "X_train.head()"
   ]
  },
  {
   "cell_type": "markdown",
   "id": "5a60b401",
   "metadata": {},
   "source": [
    "### Option 2: Use cluster names as a target variable to classify new data"
   ]
  },
  {
   "cell_type": "code",
   "execution_count": 40,
   "id": "fb2d30b3",
   "metadata": {},
   "outputs": [
    {
     "data": {
      "text/html": [
       "<div>\n",
       "<style scoped>\n",
       "    .dataframe tbody tr th:only-of-type {\n",
       "        vertical-align: middle;\n",
       "    }\n",
       "\n",
       "    .dataframe tbody tr th {\n",
       "        vertical-align: top;\n",
       "    }\n",
       "\n",
       "    .dataframe thead th {\n",
       "        text-align: right;\n",
       "    }\n",
       "</style>\n",
       "<table border=\"1\" class=\"dataframe\">\n",
       "  <thead>\n",
       "    <tr style=\"text-align: right;\">\n",
       "      <th></th>\n",
       "      <th>gender</th>\n",
       "      <th>age</th>\n",
       "      <th>annual_income</th>\n",
       "      <th>spending_score</th>\n",
       "      <th>cluster</th>\n",
       "      <th>transportation</th>\n",
       "      <th>group_size</th>\n",
       "      <th>hair_color</th>\n",
       "    </tr>\n",
       "    <tr>\n",
       "      <th>customer_id</th>\n",
       "      <th></th>\n",
       "      <th></th>\n",
       "      <th></th>\n",
       "      <th></th>\n",
       "      <th></th>\n",
       "      <th></th>\n",
       "      <th></th>\n",
       "      <th></th>\n",
       "    </tr>\n",
       "  </thead>\n",
       "  <tbody>\n",
       "    <tr>\n",
       "      <th>53</th>\n",
       "      <td>Female</td>\n",
       "      <td>31</td>\n",
       "      <td>43</td>\n",
       "      <td>54</td>\n",
       "      <td>young_spending_above</td>\n",
       "      <td>personal_vehicle</td>\n",
       "      <td>3</td>\n",
       "      <td>blonde</td>\n",
       "    </tr>\n",
       "    <tr>\n",
       "      <th>98</th>\n",
       "      <td>Female</td>\n",
       "      <td>27</td>\n",
       "      <td>60</td>\n",
       "      <td>50</td>\n",
       "      <td>young_spending_above</td>\n",
       "      <td>personal_vehicle</td>\n",
       "      <td>7</td>\n",
       "      <td>black</td>\n",
       "    </tr>\n",
       "    <tr>\n",
       "      <th>198</th>\n",
       "      <td>Male</td>\n",
       "      <td>32</td>\n",
       "      <td>126</td>\n",
       "      <td>74</td>\n",
       "      <td>young_ballers</td>\n",
       "      <td>dropoff</td>\n",
       "      <td>7</td>\n",
       "      <td>grey</td>\n",
       "    </tr>\n",
       "    <tr>\n",
       "      <th>43</th>\n",
       "      <td>Male</td>\n",
       "      <td>48</td>\n",
       "      <td>39</td>\n",
       "      <td>36</td>\n",
       "      <td>old_poor</td>\n",
       "      <td>dropoff</td>\n",
       "      <td>5</td>\n",
       "      <td>blonde</td>\n",
       "    </tr>\n",
       "    <tr>\n",
       "      <th>160</th>\n",
       "      <td>Female</td>\n",
       "      <td>30</td>\n",
       "      <td>78</td>\n",
       "      <td>73</td>\n",
       "      <td>young_ballers</td>\n",
       "      <td>personal_vehicle</td>\n",
       "      <td>2</td>\n",
       "      <td>other</td>\n",
       "    </tr>\n",
       "  </tbody>\n",
       "</table>\n",
       "</div>"
      ],
      "text/plain": [
       "             gender  age  annual_income  spending_score               cluster  \\\n",
       "customer_id                                                                     \n",
       "53           Female   31             43              54  young_spending_above   \n",
       "98           Female   27             60              50  young_spending_above   \n",
       "198            Male   32            126              74         young_ballers   \n",
       "43             Male   48             39              36              old_poor   \n",
       "160          Female   30             78              73         young_ballers   \n",
       "\n",
       "               transportation  group_size hair_color  \n",
       "customer_id                                           \n",
       "53           personal_vehicle           3     blonde  \n",
       "98           personal_vehicle           7      black  \n",
       "198                   dropoff           7       grey  \n",
       "43                    dropoff           5     blonde  \n",
       "160          personal_vehicle           2      other  "
      ]
     },
     "execution_count": 40,
     "metadata": {},
     "output_type": "execute_result"
    }
   ],
   "source": [
    "train.head()"
   ]
  },
  {
   "cell_type": "markdown",
   "id": "61b805e2",
   "metadata": {},
   "source": [
    "#### our new clusters can be our target variable"
   ]
  },
  {
   "cell_type": "markdown",
   "id": "f32cd4b8",
   "metadata": {},
   "source": [
    "we can once again build a classification model using our new target variable"
   ]
  },
  {
   "cell_type": "code",
   "execution_count": 42,
   "id": "7414d0b2",
   "metadata": {},
   "outputs": [
    {
     "data": {
      "text/plain": [
       "customer_id\n",
       "53     young_spending_above\n",
       "98     young_spending_above\n",
       "198           young_ballers\n",
       "43                 old_poor\n",
       "160           young_ballers\n",
       "Name: cluster, dtype: object"
      ]
     },
     "execution_count": 42,
     "metadata": {},
     "output_type": "execute_result"
    }
   ],
   "source": [
    "#define y_train\n",
    "y_train = train.cluster\n",
    "y_train.head()"
   ]
  },
  {
   "cell_type": "markdown",
   "id": "1757ea71",
   "metadata": {},
   "source": [
    "#### our X_train can NOT include features that were used to calculate our target variable"
   ]
  },
  {
   "cell_type": "code",
   "execution_count": 46,
   "id": "baed6dd0",
   "metadata": {},
   "outputs": [
    {
     "data": {
      "text/html": [
       "<div>\n",
       "<style scoped>\n",
       "    .dataframe tbody tr th:only-of-type {\n",
       "        vertical-align: middle;\n",
       "    }\n",
       "\n",
       "    .dataframe tbody tr th {\n",
       "        vertical-align: top;\n",
       "    }\n",
       "\n",
       "    .dataframe thead th {\n",
       "        text-align: right;\n",
       "    }\n",
       "</style>\n",
       "<table border=\"1\" class=\"dataframe\">\n",
       "  <thead>\n",
       "    <tr style=\"text-align: right;\">\n",
       "      <th></th>\n",
       "      <th>gender</th>\n",
       "      <th>transportation</th>\n",
       "      <th>group_size</th>\n",
       "      <th>hair_color</th>\n",
       "    </tr>\n",
       "    <tr>\n",
       "      <th>customer_id</th>\n",
       "      <th></th>\n",
       "      <th></th>\n",
       "      <th></th>\n",
       "      <th></th>\n",
       "    </tr>\n",
       "  </thead>\n",
       "  <tbody>\n",
       "    <tr>\n",
       "      <th>53</th>\n",
       "      <td>Female</td>\n",
       "      <td>personal_vehicle</td>\n",
       "      <td>3</td>\n",
       "      <td>blonde</td>\n",
       "    </tr>\n",
       "    <tr>\n",
       "      <th>98</th>\n",
       "      <td>Female</td>\n",
       "      <td>personal_vehicle</td>\n",
       "      <td>7</td>\n",
       "      <td>black</td>\n",
       "    </tr>\n",
       "    <tr>\n",
       "      <th>198</th>\n",
       "      <td>Male</td>\n",
       "      <td>dropoff</td>\n",
       "      <td>7</td>\n",
       "      <td>grey</td>\n",
       "    </tr>\n",
       "    <tr>\n",
       "      <th>43</th>\n",
       "      <td>Male</td>\n",
       "      <td>dropoff</td>\n",
       "      <td>5</td>\n",
       "      <td>blonde</td>\n",
       "    </tr>\n",
       "    <tr>\n",
       "      <th>160</th>\n",
       "      <td>Female</td>\n",
       "      <td>personal_vehicle</td>\n",
       "      <td>2</td>\n",
       "      <td>other</td>\n",
       "    </tr>\n",
       "  </tbody>\n",
       "</table>\n",
       "</div>"
      ],
      "text/plain": [
       "             gender    transportation  group_size hair_color\n",
       "customer_id                                                 \n",
       "53           Female  personal_vehicle           3     blonde\n",
       "98           Female  personal_vehicle           7      black\n",
       "198            Male           dropoff           7       grey\n",
       "43             Male           dropoff           5     blonde\n",
       "160          Female  personal_vehicle           2      other"
      ]
     },
     "execution_count": 46,
     "metadata": {},
     "output_type": "execute_result"
    }
   ],
   "source": [
    "#define X_train\n",
    "x_train = train[['gender', 'transportation', 'group_size', 'hair_color']]\n",
    "x_train.head()"
   ]
  },
  {
   "cell_type": "markdown",
   "id": "d0fab9f1",
   "metadata": {},
   "source": [
    "### Option 3: Perform deeper EDA\n",
    "Sometimes the identification of clusters gives us additional questions we need to ask.\n",
    "- hypothesize\n",
    "- visualize\n",
    "- statisticize\n",
    "- summarize"
   ]
  },
  {
   "cell_type": "code",
   "execution_count": 47,
   "id": "1f5bf93e",
   "metadata": {},
   "outputs": [
    {
     "data": {
      "text/html": [
       "<div>\n",
       "<style scoped>\n",
       "    .dataframe tbody tr th:only-of-type {\n",
       "        vertical-align: middle;\n",
       "    }\n",
       "\n",
       "    .dataframe tbody tr th {\n",
       "        vertical-align: top;\n",
       "    }\n",
       "\n",
       "    .dataframe thead th {\n",
       "        text-align: right;\n",
       "    }\n",
       "</style>\n",
       "<table border=\"1\" class=\"dataframe\">\n",
       "  <thead>\n",
       "    <tr style=\"text-align: right;\">\n",
       "      <th></th>\n",
       "      <th>gender</th>\n",
       "      <th>age</th>\n",
       "      <th>annual_income</th>\n",
       "      <th>spending_score</th>\n",
       "      <th>cluster</th>\n",
       "      <th>transportation</th>\n",
       "      <th>group_size</th>\n",
       "      <th>hair_color</th>\n",
       "    </tr>\n",
       "    <tr>\n",
       "      <th>customer_id</th>\n",
       "      <th></th>\n",
       "      <th></th>\n",
       "      <th></th>\n",
       "      <th></th>\n",
       "      <th></th>\n",
       "      <th></th>\n",
       "      <th></th>\n",
       "      <th></th>\n",
       "    </tr>\n",
       "  </thead>\n",
       "  <tbody>\n",
       "    <tr>\n",
       "      <th>53</th>\n",
       "      <td>Female</td>\n",
       "      <td>31</td>\n",
       "      <td>43</td>\n",
       "      <td>54</td>\n",
       "      <td>young_spending_above</td>\n",
       "      <td>personal_vehicle</td>\n",
       "      <td>3</td>\n",
       "      <td>blonde</td>\n",
       "    </tr>\n",
       "    <tr>\n",
       "      <th>98</th>\n",
       "      <td>Female</td>\n",
       "      <td>27</td>\n",
       "      <td>60</td>\n",
       "      <td>50</td>\n",
       "      <td>young_spending_above</td>\n",
       "      <td>personal_vehicle</td>\n",
       "      <td>7</td>\n",
       "      <td>black</td>\n",
       "    </tr>\n",
       "    <tr>\n",
       "      <th>198</th>\n",
       "      <td>Male</td>\n",
       "      <td>32</td>\n",
       "      <td>126</td>\n",
       "      <td>74</td>\n",
       "      <td>young_ballers</td>\n",
       "      <td>dropoff</td>\n",
       "      <td>7</td>\n",
       "      <td>grey</td>\n",
       "    </tr>\n",
       "    <tr>\n",
       "      <th>43</th>\n",
       "      <td>Male</td>\n",
       "      <td>48</td>\n",
       "      <td>39</td>\n",
       "      <td>36</td>\n",
       "      <td>old_poor</td>\n",
       "      <td>dropoff</td>\n",
       "      <td>5</td>\n",
       "      <td>blonde</td>\n",
       "    </tr>\n",
       "    <tr>\n",
       "      <th>160</th>\n",
       "      <td>Female</td>\n",
       "      <td>30</td>\n",
       "      <td>78</td>\n",
       "      <td>73</td>\n",
       "      <td>young_ballers</td>\n",
       "      <td>personal_vehicle</td>\n",
       "      <td>2</td>\n",
       "      <td>other</td>\n",
       "    </tr>\n",
       "  </tbody>\n",
       "</table>\n",
       "</div>"
      ],
      "text/plain": [
       "             gender  age  annual_income  spending_score               cluster  \\\n",
       "customer_id                                                                     \n",
       "53           Female   31             43              54  young_spending_above   \n",
       "98           Female   27             60              50  young_spending_above   \n",
       "198            Male   32            126              74         young_ballers   \n",
       "43             Male   48             39              36              old_poor   \n",
       "160          Female   30             78              73         young_ballers   \n",
       "\n",
       "               transportation  group_size hair_color  \n",
       "customer_id                                           \n",
       "53           personal_vehicle           3     blonde  \n",
       "98           personal_vehicle           7      black  \n",
       "198                   dropoff           7       grey  \n",
       "43                    dropoff           5     blonde  \n",
       "160          personal_vehicle           2      other  "
      ]
     },
     "execution_count": 47,
     "metadata": {},
     "output_type": "execute_result"
    }
   ],
   "source": [
    "train.head()"
   ]
  },
  {
   "cell_type": "markdown",
   "id": "3baea9d5",
   "metadata": {},
   "source": [
    "#### How do the cluster (customer) groups relate to hair color?"
   ]
  },
  {
   "cell_type": "markdown",
   "id": "2e37b17e",
   "metadata": {},
   "source": [
    "#### How do the customer groups compare to the group size?"
   ]
  },
  {
   "cell_type": "code",
   "execution_count": 48,
   "id": "65ef7603",
   "metadata": {},
   "outputs": [
    {
     "data": {
      "text/plain": [
       "(array([0, 1, 2, 3]),\n",
       " [Text(0, 0, 'young_spending_above'),\n",
       "  Text(1, 0, 'young_ballers'),\n",
       "  Text(2, 0, 'old_poor'),\n",
       "  Text(3, 0, 'frugal')])"
      ]
     },
     "execution_count": 48,
     "metadata": {},
     "output_type": "execute_result"
    },
    {
     "data": {
      "image/png": "[encoded data removed]",
      "text/plain": [
       "<Figure size 640x480 with 1 Axes>"
      ]
     },
     "metadata": {},
     "output_type": "display_data"
    }
   ],
   "source": [
    "sns.boxplot(data=train, x='cluster', y='group_size')\n",
    "plt.xticks(rotation=40)"
   ]
  },
  {
   "cell_type": "markdown",
   "id": "69c035be",
   "metadata": {},
   "source": [
    "verify with a stats test\n",
    "write our conclusion!"
   ]
  },
  {
   "cell_type": "code",
   "execution_count": null,
   "id": "77c05513",
   "metadata": {},
   "outputs": [],
   "source": []
  },
  {
   "cell_type": "markdown",
   "id": "c0c1dfc1",
   "metadata": {},
   "source": [
    "### Option 4: Create a Many Models Approach"
   ]
  },
  {
   "cell_type": "markdown",
   "id": "8d665d31",
   "metadata": {},
   "source": [
    "For each unique value in our cluster, build a separate model. Therefore, each cluser can have it's own model"
   ]
  },
  {
   "cell_type": "code",
   "execution_count": 49,
   "id": "83c3660f",
   "metadata": {},
   "outputs": [
    {
     "data": {
      "text/plain": [
       "old_poor                58\n",
       "young_spending_above    56\n",
       "young_ballers           35\n",
       "frugal                  31\n",
       "Name: cluster, dtype: int64"
      ]
     },
     "execution_count": 49,
     "metadata": {},
     "output_type": "execute_result"
    }
   ],
   "source": [
    "train.cluster.value_counts()"
   ]
  },
  {
   "cell_type": "markdown",
   "id": "979d130a",
   "metadata": {},
   "source": [
    "#### Model 1 -  Young people who are low income and spend a lot"
   ]
  },
  {
   "cell_type": "code",
   "execution_count": 52,
   "id": "a5ff0f93",
   "metadata": {},
   "outputs": [],
   "source": [
    "to_drop = ['age', 'annual_income', 'spending_score', 'cluster']"
   ]
  },
  {
   "cell_type": "code",
   "execution_count": 54,
   "id": "407bf1d8",
   "metadata": {},
   "outputs": [
    {
     "data": {
      "text/html": [
       "<div>\n",
       "<style scoped>\n",
       "    .dataframe tbody tr th:only-of-type {\n",
       "        vertical-align: middle;\n",
       "    }\n",
       "\n",
       "    .dataframe tbody tr th {\n",
       "        vertical-align: top;\n",
       "    }\n",
       "\n",
       "    .dataframe thead th {\n",
       "        text-align: right;\n",
       "    }\n",
       "</style>\n",
       "<table border=\"1\" class=\"dataframe\">\n",
       "  <thead>\n",
       "    <tr style=\"text-align: right;\">\n",
       "      <th></th>\n",
       "      <th>gender</th>\n",
       "      <th>transportation</th>\n",
       "      <th>group_size</th>\n",
       "      <th>hair_color</th>\n",
       "    </tr>\n",
       "    <tr>\n",
       "      <th>customer_id</th>\n",
       "      <th></th>\n",
       "      <th></th>\n",
       "      <th></th>\n",
       "      <th></th>\n",
       "    </tr>\n",
       "  </thead>\n",
       "  <tbody>\n",
       "    <tr>\n",
       "      <th>53</th>\n",
       "      <td>Female</td>\n",
       "      <td>personal_vehicle</td>\n",
       "      <td>3</td>\n",
       "      <td>blonde</td>\n",
       "    </tr>\n",
       "    <tr>\n",
       "      <th>98</th>\n",
       "      <td>Female</td>\n",
       "      <td>personal_vehicle</td>\n",
       "      <td>7</td>\n",
       "      <td>black</td>\n",
       "    </tr>\n",
       "    <tr>\n",
       "      <th>88</th>\n",
       "      <td>Female</td>\n",
       "      <td>personal_vehicle</td>\n",
       "      <td>1</td>\n",
       "      <td>brown</td>\n",
       "    </tr>\n",
       "    <tr>\n",
       "      <th>100</th>\n",
       "      <td>Male</td>\n",
       "      <td>personal_vehicle</td>\n",
       "      <td>3</td>\n",
       "      <td>brown</td>\n",
       "    </tr>\n",
       "    <tr>\n",
       "      <th>40</th>\n",
       "      <td>Female</td>\n",
       "      <td>personal_vehicle</td>\n",
       "      <td>6</td>\n",
       "      <td>black</td>\n",
       "    </tr>\n",
       "  </tbody>\n",
       "</table>\n",
       "</div>"
      ],
      "text/plain": [
       "             gender    transportation  group_size hair_color\n",
       "customer_id                                                 \n",
       "53           Female  personal_vehicle           3     blonde\n",
       "98           Female  personal_vehicle           7      black\n",
       "88           Female  personal_vehicle           1      brown\n",
       "100            Male  personal_vehicle           3      brown\n",
       "40           Female  personal_vehicle           6      black"
      ]
     },
     "execution_count": 54,
     "metadata": {},
     "output_type": "execute_result"
    }
   ],
   "source": [
    "train[train.cluster == 'young_spending_above'].drop(columns=to_drop).head()"
   ]
  },
  {
   "cell_type": "markdown",
   "id": "8b9c9e64",
   "metadata": {},
   "source": [
    "#### Model 2 - Old people who are low income and spend low amounts"
   ]
  },
  {
   "cell_type": "code",
   "execution_count": 55,
   "id": "21c35771",
   "metadata": {},
   "outputs": [
    {
     "data": {
      "text/html": [
       "<div>\n",
       "<style scoped>\n",
       "    .dataframe tbody tr th:only-of-type {\n",
       "        vertical-align: middle;\n",
       "    }\n",
       "\n",
       "    .dataframe tbody tr th {\n",
       "        vertical-align: top;\n",
       "    }\n",
       "\n",
       "    .dataframe thead th {\n",
       "        text-align: right;\n",
       "    }\n",
       "</style>\n",
       "<table border=\"1\" class=\"dataframe\">\n",
       "  <thead>\n",
       "    <tr style=\"text-align: right;\">\n",
       "      <th></th>\n",
       "      <th>gender</th>\n",
       "      <th>transportation</th>\n",
       "      <th>group_size</th>\n",
       "      <th>hair_color</th>\n",
       "    </tr>\n",
       "    <tr>\n",
       "      <th>customer_id</th>\n",
       "      <th></th>\n",
       "      <th></th>\n",
       "      <th></th>\n",
       "      <th></th>\n",
       "    </tr>\n",
       "  </thead>\n",
       "  <tbody>\n",
       "    <tr>\n",
       "      <th>43</th>\n",
       "      <td>Male</td>\n",
       "      <td>dropoff</td>\n",
       "      <td>5</td>\n",
       "      <td>blonde</td>\n",
       "    </tr>\n",
       "    <tr>\n",
       "      <th>117</th>\n",
       "      <td>Female</td>\n",
       "      <td>dropoff</td>\n",
       "      <td>3</td>\n",
       "      <td>black</td>\n",
       "    </tr>\n",
       "    <tr>\n",
       "      <th>90</th>\n",
       "      <td>Female</td>\n",
       "      <td>personal_vehicle</td>\n",
       "      <td>4</td>\n",
       "      <td>other</td>\n",
       "    </tr>\n",
       "    <tr>\n",
       "      <th>35</th>\n",
       "      <td>Female</td>\n",
       "      <td>dropoff</td>\n",
       "      <td>9</td>\n",
       "      <td>other</td>\n",
       "    </tr>\n",
       "    <tr>\n",
       "      <th>58</th>\n",
       "      <td>Male</td>\n",
       "      <td>personal_vehicle</td>\n",
       "      <td>9</td>\n",
       "      <td>blonde</td>\n",
       "    </tr>\n",
       "  </tbody>\n",
       "</table>\n",
       "</div>"
      ],
      "text/plain": [
       "             gender    transportation  group_size hair_color\n",
       "customer_id                                                 \n",
       "43             Male           dropoff           5     blonde\n",
       "117          Female           dropoff           3      black\n",
       "90           Female  personal_vehicle           4      other\n",
       "35           Female           dropoff           9      other\n",
       "58             Male  personal_vehicle           9     blonde"
      ]
     },
     "execution_count": 55,
     "metadata": {},
     "output_type": "execute_result"
    }
   ],
   "source": [
    "train[train.cluster == 'old_poor'].drop(columns=to_drop).head()"
   ]
  },
  {
   "cell_type": "markdown",
   "id": "1b4be8c1",
   "metadata": {},
   "source": [
    "#### Model 3 - Young people who make a lot and spend a lot"
   ]
  },
  {
   "cell_type": "code",
   "execution_count": 56,
   "id": "7cac633d",
   "metadata": {},
   "outputs": [
    {
     "data": {
      "text/html": [
       "<div>\n",
       "<style scoped>\n",
       "    .dataframe tbody tr th:only-of-type {\n",
       "        vertical-align: middle;\n",
       "    }\n",
       "\n",
       "    .dataframe tbody tr th {\n",
       "        vertical-align: top;\n",
       "    }\n",
       "\n",
       "    .dataframe thead th {\n",
       "        text-align: right;\n",
       "    }\n",
       "</style>\n",
       "<table border=\"1\" class=\"dataframe\">\n",
       "  <thead>\n",
       "    <tr style=\"text-align: right;\">\n",
       "      <th></th>\n",
       "      <th>gender</th>\n",
       "      <th>transportation</th>\n",
       "      <th>group_size</th>\n",
       "      <th>hair_color</th>\n",
       "    </tr>\n",
       "    <tr>\n",
       "      <th>customer_id</th>\n",
       "      <th></th>\n",
       "      <th></th>\n",
       "      <th></th>\n",
       "      <th></th>\n",
       "    </tr>\n",
       "  </thead>\n",
       "  <tbody>\n",
       "    <tr>\n",
       "      <th>198</th>\n",
       "      <td>Male</td>\n",
       "      <td>dropoff</td>\n",
       "      <td>7</td>\n",
       "      <td>grey</td>\n",
       "    </tr>\n",
       "    <tr>\n",
       "      <th>160</th>\n",
       "      <td>Female</td>\n",
       "      <td>personal_vehicle</td>\n",
       "      <td>2</td>\n",
       "      <td>other</td>\n",
       "    </tr>\n",
       "    <tr>\n",
       "      <th>156</th>\n",
       "      <td>Female</td>\n",
       "      <td>personal_vehicle</td>\n",
       "      <td>9</td>\n",
       "      <td>other</td>\n",
       "    </tr>\n",
       "    <tr>\n",
       "      <th>148</th>\n",
       "      <td>Female</td>\n",
       "      <td>walking</td>\n",
       "      <td>9</td>\n",
       "      <td>brown</td>\n",
       "    </tr>\n",
       "    <tr>\n",
       "      <th>168</th>\n",
       "      <td>Female</td>\n",
       "      <td>personal_vehicle</td>\n",
       "      <td>7</td>\n",
       "      <td>black</td>\n",
       "    </tr>\n",
       "  </tbody>\n",
       "</table>\n",
       "</div>"
      ],
      "text/plain": [
       "             gender    transportation  group_size hair_color\n",
       "customer_id                                                 \n",
       "198            Male           dropoff           7       grey\n",
       "160          Female  personal_vehicle           2      other\n",
       "156          Female  personal_vehicle           9      other\n",
       "148          Female           walking           9      brown\n",
       "168          Female  personal_vehicle           7      black"
      ]
     },
     "execution_count": 56,
     "metadata": {},
     "output_type": "execute_result"
    }
   ],
   "source": [
    "train[train.cluster == 'young_ballers'].drop(columns=to_drop).head()"
   ]
  },
  {
   "cell_type": "markdown",
   "id": "5d8f3cfa",
   "metadata": {},
   "source": [
    "#### Model 4 - Old people who make a lot and spend a little"
   ]
  },
  {
   "cell_type": "code",
   "execution_count": 57,
   "id": "27932792",
   "metadata": {},
   "outputs": [
    {
     "data": {
      "text/html": [
       "<div>\n",
       "<style scoped>\n",
       "    .dataframe tbody tr th:only-of-type {\n",
       "        vertical-align: middle;\n",
       "    }\n",
       "\n",
       "    .dataframe tbody tr th {\n",
       "        vertical-align: top;\n",
       "    }\n",
       "\n",
       "    .dataframe thead th {\n",
       "        text-align: right;\n",
       "    }\n",
       "</style>\n",
       "<table border=\"1\" class=\"dataframe\">\n",
       "  <thead>\n",
       "    <tr style=\"text-align: right;\">\n",
       "      <th></th>\n",
       "      <th>gender</th>\n",
       "      <th>transportation</th>\n",
       "      <th>group_size</th>\n",
       "      <th>hair_color</th>\n",
       "    </tr>\n",
       "    <tr>\n",
       "      <th>customer_id</th>\n",
       "      <th></th>\n",
       "      <th></th>\n",
       "      <th></th>\n",
       "      <th></th>\n",
       "    </tr>\n",
       "  </thead>\n",
       "  <tbody>\n",
       "    <tr>\n",
       "      <th>151</th>\n",
       "      <td>Male</td>\n",
       "      <td>personal_vehicle</td>\n",
       "      <td>1</td>\n",
       "      <td>grey</td>\n",
       "    </tr>\n",
       "    <tr>\n",
       "      <th>165</th>\n",
       "      <td>Male</td>\n",
       "      <td>dropoff</td>\n",
       "      <td>1</td>\n",
       "      <td>black</td>\n",
       "    </tr>\n",
       "    <tr>\n",
       "      <th>177</th>\n",
       "      <td>Male</td>\n",
       "      <td>personal_vehicle</td>\n",
       "      <td>5</td>\n",
       "      <td>brown</td>\n",
       "    </tr>\n",
       "    <tr>\n",
       "      <th>191</th>\n",
       "      <td>Female</td>\n",
       "      <td>walking</td>\n",
       "      <td>8</td>\n",
       "      <td>other</td>\n",
       "    </tr>\n",
       "    <tr>\n",
       "      <th>169</th>\n",
       "      <td>Female</td>\n",
       "      <td>personal_vehicle</td>\n",
       "      <td>2</td>\n",
       "      <td>blonde</td>\n",
       "    </tr>\n",
       "  </tbody>\n",
       "</table>\n",
       "</div>"
      ],
      "text/plain": [
       "             gender    transportation  group_size hair_color\n",
       "customer_id                                                 \n",
       "151            Male  personal_vehicle           1       grey\n",
       "165            Male           dropoff           1      black\n",
       "177            Male  personal_vehicle           5      brown\n",
       "191          Female           walking           8      other\n",
       "169          Female  personal_vehicle           2     blonde"
      ]
     },
     "execution_count": 57,
     "metadata": {},
     "output_type": "execute_result"
    }
   ],
   "source": [
    "train[train.cluster == 'frugal'].drop(columns=to_drop).head()"
   ]
  },
  {
   "cell_type": "code",
   "execution_count": null,
   "id": "d841c1f6",
   "metadata": {},
   "outputs": [],
   "source": []
  }
 ],
 "metadata": {
  "kernelspec": {
   "display_name": "Python 3 (ipykernel)",
   "language": "python",
   "name": "python3"
  },
  "language_info": {
   "codemirror_mode": {
    "name": "ipython",
    "version": 3
   },
   "file_extension": ".py",
   "mimetype": "text/x-python",
   "name": "python",
   "nbconvert_exporter": "python",
   "pygments_lexer": "ipython3",
   "version": "3.9.13"
  }
 },
 "nbformat": 4,
 "nbformat_minor": 5
}
